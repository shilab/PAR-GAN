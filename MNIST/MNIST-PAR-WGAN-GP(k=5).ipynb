{
 "cells": [
  {
   "cell_type": "code",
   "execution_count": 1,
   "metadata": {},
   "outputs": [
    {
     "data": {
      "text/plain": [
       "'2.1.0'"
      ]
     },
     "execution_count": 1,
     "metadata": {},
     "output_type": "execute_result"
    }
   ],
   "source": [
    "import os\n",
    "import glob\n",
    "import numpy as np\n",
    "import pandas as pd\n",
    "import pickle\n",
    "from matplotlib import pyplot as plt\n",
    "import time\n",
    "import PIL\n",
    "import imageio\n",
    "import functools\n",
    "\n",
    "from IPython import display\n",
    "\n",
    "import tensorflow as tf\n",
    "from tensorflow.keras import datasets, layers, Sequential, Model\n",
    "from tensorflow.keras import metrics\n",
    "from tensorflow.keras import constraints\n",
    "\n",
    "tf.__version__"
   ]
  },
  {
   "cell_type": "code",
   "execution_count": 2,
   "metadata": {},
   "outputs": [],
   "source": [
    "# Set environment variables\n",
    "os.environ['CUDA_VISIBLE_DEVICES'] = '0'\n",
    "\n",
    "# On DGX-1 you might need to set the following environment variable for maximum performance:\n",
    "os.environ['NCCL_TOPOLOGY'] = 'CUBEMESH'"
   ]
  },
  {
   "cell_type": "code",
   "execution_count": 3,
   "metadata": {},
   "outputs": [],
   "source": [
    "gpus = tf.config.experimental.list_physical_devices('GPU')\n",
    "tf.config.experimental.set_memory_growth(gpus[0], True)"
   ]
  },
  {
   "cell_type": "markdown",
   "metadata": {},
   "source": [
    "# Data"
   ]
  },
  {
   "cell_type": "code",
   "execution_count": 4,
   "metadata": {},
   "outputs": [],
   "source": [
    "num_disc = 5"
   ]
  },
  {
   "cell_type": "markdown",
   "metadata": {},
   "source": [
    "## load minst data"
   ]
  },
  {
   "cell_type": "code",
   "execution_count": 5,
   "metadata": {},
   "outputs": [],
   "source": [
    "# x: [60k, 28, 28],\n",
    "# y: [60k]\n",
    "(train_MNIST, train_labels), (test_MNIST, test_labels) = datasets.mnist.load_data()\n",
    "train_images = train_MNIST.reshape(train_MNIST.shape[0], 28, 28, 1).astype('float32')\n",
    "train_images = (train_images - 127.5) / 127.5  # Normalize the images to [-1, 1]\n",
    "test_images = test_MNIST.reshape(test_MNIST.shape[0], 28, 28, 1).astype('float32')\n",
    "test_images = (test_images - 127.5) / 127.5  # Normalize the images to [-1, 1]"
   ]
  },
  {
   "cell_type": "markdown",
   "metadata": {},
   "source": [
    "## split to target and shadow"
   ]
  },
  {
   "cell_type": "code",
   "execution_count": 6,
   "metadata": {},
   "outputs": [],
   "source": [
    "target_size = 7000\n",
    "target_images = train_images[:target_size]"
   ]
  },
  {
   "cell_type": "markdown",
   "metadata": {},
   "source": [
    "## Partition"
   ]
  },
  {
   "cell_type": "code",
   "execution_count": 7,
   "metadata": {},
   "outputs": [],
   "source": [
    "def EvenlySplitting(dataset, size=5):\n",
    "    chunk_size = dataset.shape[0]//size\n",
    "    \n",
    "    splitted_datasets = []\n",
    "    for i in range(size):\n",
    "        temp_data = dataset[i*chunk_size:(i+1)*chunk_size]\n",
    "        splitted_datasets.append(temp_data)\n",
    "        \n",
    "    return splitted_datasets"
   ]
  },
  {
   "cell_type": "code",
   "execution_count": 8,
   "metadata": {},
   "outputs": [],
   "source": [
    "train_datasets = EvenlySplitting(target_images, size=num_disc)"
   ]
  },
  {
   "cell_type": "code",
   "execution_count": 9,
   "metadata": {},
   "outputs": [
    {
     "data": {
      "text/plain": [
       "5"
      ]
     },
     "execution_count": 9,
     "metadata": {},
     "output_type": "execute_result"
    }
   ],
   "source": [
    "len(train_datasets)"
   ]
  },
  {
   "cell_type": "code",
   "execution_count": 10,
   "metadata": {},
   "outputs": [
    {
     "data": {
      "text/plain": [
       "(1400, 28, 28, 1)"
      ]
     },
     "execution_count": 10,
     "metadata": {},
     "output_type": "execute_result"
    }
   ],
   "source": [
    "train_datasets[0].shape"
   ]
  },
  {
   "cell_type": "markdown",
   "metadata": {},
   "source": [
    "# Build GAN"
   ]
  },
  {
   "cell_type": "code",
   "execution_count": 11,
   "metadata": {},
   "outputs": [],
   "source": [
    "noise_dim = 100\n",
    "nrow = target_images.shape[1]\n",
    "ncol = target_images.shape[2]\n",
    "channels = target_images.shape[3]\n",
    "input_shape = (nrow, ncol, channels)\n",
    "\n",
    "grad_penalty_weight = 10"
   ]
  },
  {
   "cell_type": "markdown",
   "metadata": {},
   "source": [
    "## Generator"
   ]
  },
  {
   "cell_type": "code",
   "execution_count": 12,
   "metadata": {},
   "outputs": [],
   "source": [
    "def make_generator_model():\n",
    "    model = tf.keras.Sequential()\n",
    "    model.add(layers.Dense(7 * 7 * 256, use_bias=False, input_shape=(100, )))\n",
    "    model.add(layers.BatchNormalization())\n",
    "    model.add(layers.LeakyReLU())\n",
    "\n",
    "    model.add(layers.Reshape((7, 7, 256)))\n",
    "    assert model.output_shape == (None, 7, 7, 256\n",
    "                                  )  # Note: None is the batch size\n",
    "\n",
    "    model.add(\n",
    "        layers.Conv2DTranspose(128, (5, 5),\n",
    "                               strides=(1, 1),\n",
    "                               padding='same',\n",
    "                               use_bias=False))\n",
    "    assert model.output_shape == (None, 7, 7, 128)\n",
    "    model.add(layers.BatchNormalization())\n",
    "    model.add(layers.LeakyReLU())\n",
    "\n",
    "    model.add(\n",
    "        layers.Conv2DTranspose(64, (5, 5),\n",
    "                               strides=(2, 2),\n",
    "                               padding='same',\n",
    "                               use_bias=False))\n",
    "    assert model.output_shape == (None, 14, 14, 64)\n",
    "    model.add(layers.BatchNormalization())\n",
    "    model.add(layers.LeakyReLU())\n",
    "\n",
    "    model.add(\n",
    "        layers.Conv2DTranspose(1, (5, 5),\n",
    "                               strides=(2, 2),\n",
    "                               padding='same',\n",
    "                               use_bias=False,\n",
    "                               activation='tanh'))\n",
    "    assert model.output_shape == (None, 28, 28, 1)\n",
    "\n",
    "    return model"
   ]
  },
  {
   "cell_type": "code",
   "execution_count": 13,
   "metadata": {},
   "outputs": [
    {
     "data": {
      "text/plain": [
       "<matplotlib.image.AxesImage at 0x1505f00e01d0>"
      ]
     },
     "execution_count": 13,
     "metadata": {},
     "output_type": "execute_result"
    },
    {
     "data": {
      "image/png": "[encoded data removed]",
      "text/plain": [
       "<Figure size 432x288 with 1 Axes>"
      ]
     },
     "metadata": {
      "needs_background": "light"
     },
     "output_type": "display_data"
    }
   ],
   "source": [
    "generator = make_generator_model()\n",
    "\n",
    "noise = tf.random.normal([1, 100])\n",
    "generated_image = generator(noise, training=False)\n",
    "\n",
    "plt.imshow(generated_image[0, :, :, 0], cmap='gray')"
   ]
  },
  {
   "cell_type": "markdown",
   "metadata": {},
   "source": [
    "## Discriminator"
   ]
  },
  {
   "cell_type": "code",
   "execution_count": 14,
   "metadata": {},
   "outputs": [],
   "source": [
    "def make_discriminator_model():\n",
    "    model = tf.keras.Sequential()\n",
    "    model.add(\n",
    "        layers.Conv2D(64, (5, 5),\n",
    "                      strides=(2, 2),\n",
    "                      padding='same',\n",
    "                      input_shape=[28, 28, 1]))\n",
    "    # model.add(layers.BatchNormalization())\n",
    "    model.add(layers.LeakyReLU())\n",
    "    model.add(layers.Dropout(0.3))\n",
    "\n",
    "    model.add(\n",
    "        layers.Conv2D(128, (5, 5),\n",
    "                      strides=(2, 2),\n",
    "                      padding='same'))\n",
    "    # model.add(layers.BatchNormalization())\n",
    "    model.add(layers.LeakyReLU())\n",
    "    model.add(layers.Dropout(0.3))\n",
    "\n",
    "    model.add(layers.Flatten())\n",
    "    model.add(layers.Dense(1))\n",
    "\n",
    "    return model"
   ]
  },
  {
   "cell_type": "code",
   "execution_count": 15,
   "metadata": {},
   "outputs": [],
   "source": [
    "# Use the (as yet untrained) discriminator \n",
    "# to classify the generated images as real or fake.\n",
    "discriminators = []\n",
    "for i in range(num_disc):\n",
    "    discriminators.append(make_discriminator_model())"
   ]
  },
  {
   "cell_type": "code",
   "execution_count": 16,
   "metadata": {
    "scrolled": false
   },
   "outputs": [
    {
     "name": "stdout",
     "output_type": "stream",
     "text": [
      "tf.Tensor([[0.00351406]], shape=(1, 1), dtype=float32)\n",
      "tf.Tensor([[0.00071599]], shape=(1, 1), dtype=float32)\n",
      "tf.Tensor([[-0.00216462]], shape=(1, 1), dtype=float32)\n",
      "tf.Tensor([[-0.00027919]], shape=(1, 1), dtype=float32)\n",
      "tf.Tensor([[0.0011699]], shape=(1, 1), dtype=float32)\n"
     ]
    }
   ],
   "source": [
    "# check output\n",
    "for i in range(num_disc):\n",
    "    disc_output = discriminators[0](generated_image, training=False)\n",
    "    print (disc_output)"
   ]
  },
  {
   "cell_type": "markdown",
   "metadata": {},
   "source": [
    "## Loss"
   ]
  },
  {
   "cell_type": "code",
   "execution_count": 17,
   "metadata": {},
   "outputs": [],
   "source": [
    "# wasserstein_loss\n",
    "def generator_loss(fake_output):\n",
    "    return -tf.reduce_mean(fake_output)\n",
    "\n",
    "\n",
    "def discriminator_loss(real_output, fake_output):\n",
    "    return -tf.reduce_mean(real_output) + tf.reduce_mean(fake_output)"
   ]
  },
  {
   "cell_type": "markdown",
   "metadata": {},
   "source": [
    "## Optimizer"
   ]
  },
  {
   "cell_type": "code",
   "execution_count": 18,
   "metadata": {},
   "outputs": [],
   "source": [
    "# RMSprop\n",
    "generator_optimizer = tf.keras.optimizers.RMSprop(1e-5)\n",
    "discriminator_optimizer = tf.keras.optimizers.RMSprop(1e-5)"
   ]
  },
  {
   "cell_type": "code",
   "execution_count": 19,
   "metadata": {},
   "outputs": [],
   "source": [
    "# # Adam\n",
    "# generator_optimizer = tf.keras.optimizers.Adam(1e-4)\n",
    "# discriminator_optimizer = tf.keras.optimizers.Adam(1e-4)"
   ]
  },
  {
   "cell_type": "markdown",
   "metadata": {},
   "source": [
    "# Training"
   ]
  },
  {
   "cell_type": "code",
   "execution_count": 20,
   "metadata": {},
   "outputs": [],
   "source": [
    "# We will reuse this seed overtime (so it's easier)\n",
    "# to visualize progress in the animated GIF)\n",
    "num_examples_to_generate = 16\n",
    "seed = tf.random.normal([num_examples_to_generate, noise_dim])"
   ]
  },
  {
   "cell_type": "code",
   "execution_count": 21,
   "metadata": {},
   "outputs": [],
   "source": [
    "def generate_and_save_images(model, epoch, test_input):\n",
    "    # Notice `training` is set to False.\n",
    "    # This is so all layers run in inference mode (batchnorm).\n",
    "    predictions = model(test_input, training=False)\n",
    "\n",
    "    fig = plt.figure(figsize=(4, 4))\n",
    "\n",
    "    for i in range(predictions.shape[0]):\n",
    "        plt.subplot(4, 4, i + 1)\n",
    "        plt.imshow(predictions[i, :, :, 0] * 127.5 + 127.5, cmap='gray')\n",
    "        plt.axis('off')\n",
    "\n",
    "    # plt.savefig('images/epoch_{:04d}.png'.format(epoch))\n",
    "    plt.show()"
   ]
  },
  {
   "cell_type": "code",
   "execution_count": 22,
   "metadata": {},
   "outputs": [],
   "source": [
    "def gradient_penalty(f, real, fake):\n",
    "    alpha = tf.random.uniform([real.shape[0], 1, 1, 1], 0., 1.)\n",
    "    diff = fake - real\n",
    "    inter = real + (alpha * diff)\n",
    "    with tf.GradientTape() as t:\n",
    "        t.watch(inter)\n",
    "        pred = f(inter)\n",
    "    grad = t.gradient(pred, [inter])[0]\n",
    "    slopes = tf.sqrt(tf.reduce_sum(tf.square(grad), axis=[1, 2, 3]))\n",
    "    gp = tf.reduce_mean((slopes - 1.)**2)\n",
    "    return gp"
   ]
  },
  {
   "cell_type": "code",
   "execution_count": 23,
   "metadata": {},
   "outputs": [],
   "source": [
    "# Notice the use of `tf.function`\n",
    "# This annotation causes the function to be \"compiled\".\n",
    "@tf.function\n",
    "def train_step(batch_size, zipped_image_batch):\n",
    "    # update D\n",
    "    for _ in range(4):\n",
    "        all_disc_loss = []\n",
    "        for i in range(num_disc):            \n",
    "            noise = tf.random.normal([batch_size, noise_dim])\n",
    "            with tf.GradientTape() as disc_tape:            \n",
    "                generated_images = generator(noise, training=True)\n",
    "                \n",
    "                real_output = discriminators[i](zipped_image_batch[i], training=True)\n",
    "                fake_output = discriminators[i](generated_images, training=True)\n",
    "\n",
    "                disc_loss = discriminator_loss(real_output, fake_output)\n",
    "                # gradient penalty\n",
    "                gp = gradient_penalty(functools.partial(discriminators[i], training=True), \n",
    "                                      zipped_image_batch[i], generated_images)\n",
    "                disc_loss += grad_penalty_weight * gp\n",
    "\n",
    "                gradients_of_discriminator = disc_tape.gradient(disc_loss, discriminators[i].trainable_variables)\n",
    "                discriminator_optimizer.apply_gradients(zip(gradients_of_discriminator, \n",
    "                                                             discriminators[i].trainable_variables))\n",
    "            all_disc_loss.append(disc_loss)\n",
    "\n",
    "     # update G\n",
    "    for _ in range(1):\n",
    "        with tf.GradientTape() as gen_tape:\n",
    "            all_gen_loss = []\n",
    "            for i in range(num_disc):\n",
    "                noise = tf.random.normal([batch_size, noise_dim])\n",
    "                generated_images = generator(noise, training=True)\n",
    "                fake_output = discriminators[i](generated_images, training=True)        \n",
    "                gen_loss = generator_loss(fake_output)\n",
    "                \n",
    "                all_gen_loss.append(gen_loss)\n",
    "        \n",
    "            avg_gen_loss = tf.reduce_mean(all_gen_loss)\n",
    "            gradients_of_generator = gen_tape.gradient(avg_gen_loss, generator.trainable_variables)\n",
    "            generator_optimizer.apply_gradients(zip(gradients_of_generator, generator.trainable_variables)) \n",
    "\n",
    "    return avg_gen_loss, all_disc_loss"
   ]
  },
  {
   "cell_type": "code",
   "execution_count": 24,
   "metadata": {},
   "outputs": [],
   "source": [
    "def train(train_datasets, epochs, batch_size):\n",
    "    # Batch and shuffle all datasets\n",
    "    train_batches = []\n",
    "    for i in range(num_disc):\n",
    "        train_batches.append(\n",
    "            tf.data.Dataset.from_tensor_slices(train_datasets[i]).shuffle(\n",
    "                train_datasets[i].shape[0]).batch(batch_size,\n",
    "                                                  drop_remainder=True))\n",
    "\n",
    "    gen_loss_log, all_disc_loss_log = [], []\n",
    "    for epoch in range(epochs):\n",
    "        start = time.time()\n",
    "\n",
    "        for zipped_image_batch in zip(*train_batches):\n",
    "            gen_loss, all_disc_loss = train_step(batch_size,\n",
    "                                                 zipped_image_batch)\n",
    "\n",
    "        # append loss of last batch\n",
    "        gen_loss_log.append(gen_loss.numpy())\n",
    "        all_disc_loss_log.append(all_disc_loss)\n",
    "\n",
    "        # Produce images for the GIF as we go\n",
    "        if (epoch + 1) % 100 == 0:\n",
    "            display.clear_output(wait=True)\n",
    "            generate_and_save_images(generator, epoch + 1, seed)\n",
    "\n",
    "#         # Save the model every 200 epochs\n",
    "#         if (epoch + 1) % 500 == 0:\n",
    "#             checkpoint.save(file_prefix=checkpoint_prefix)\n",
    "\n",
    "        # print loss of last batch\n",
    "        print('Epoch {}, gen_loss: {:.5f}, disc_loss: {}. Time: {:.2f} sec'.format(epoch + 1,\n",
    "            gen_loss.numpy(), [disc_loss.numpy() for disc_loss in all_disc_loss], time.time() - start))\n",
    "\n",
    "    return gen_loss_log, all_disc_loss_log"
   ]
  },
  {
   "cell_type": "code",
   "execution_count": 25,
   "metadata": {},
   "outputs": [],
   "source": [
    "checkpoint_dir = './training_checkpoints/PAR-WGAN-GP(k={})'.format(target_size, num_disc)\n",
    "checkpoint_prefix = os.path.join(checkpoint_dir, \"v0.1\")\n",
    "checkpoint = tf.train.Checkpoint(\n",
    "    generator_optimizer=generator_optimizer,\n",
    "    discriminator_optimizer=discriminator_optimizer,\n",
    "    generator=generator,\n",
    "    discriminator0=discriminators[0],\n",
    "    discriminator1=discriminators[1],\n",
    "    discriminator2=discriminators[2],\n",
    "    discriminator3=discriminators[3],\n",
    "    discriminator4=discriminators[4])"
   ]
  },
  {
   "cell_type": "code",
   "execution_count": 26,
   "metadata": {
    "scrolled": true
   },
   "outputs": [
    {
     "data": {
      "image/png": "[encoded data removed]",
      "text/plain": [
       "<Figure size 288x288 with 16 Axes>"
      ]
     },
     "metadata": {
      "needs_background": "light"
     },
     "output_type": "display_data"
    },
    {
     "name": "stdout",
     "output_type": "stream",
     "text": [
      "Epoch 10000, gen_loss: -2.23183, disc_loss: [-1.3930838, -1.3175036, -1.3651158, -2.0967348, -1.3052441]. Time: 3.76 sec\n"
     ]
    }
   ],
   "source": [
    "EPOCHS = 10000\n",
    "BATCH_SIZE = 64\n",
    "gen_loss_log, disc_loss_log = train(train_datasets,\n",
    "                                    epochs=EPOCHS,\n",
    "                                    batch_size=BATCH_SIZE)"
   ]
  },
  {
   "cell_type": "code",
   "execution_count": 27,
   "metadata": {},
   "outputs": [
    {
     "data": {
      "image/png": "[encoded data removed]",
      "text/plain": [
       "<Figure size 432x288 with 1 Axes>"
      ]
     },
     "metadata": {
      "needs_background": "light"
     },
     "output_type": "display_data"
    }
   ],
   "source": [
    "# loss curve\n",
    "# generator\n",
    "plt.plot(range(len(gen_loss_log)), gen_loss_log, 'r', label='G')\n",
    "\n",
    "# discriminator\n",
    "disc_loss_array = np.asarray(disc_loss_log)\n",
    "for i in range(num_disc):\n",
    "    plt.plot(range(disc_loss_array.shape[0]), disc_loss_array[:,i], label='$D_{}$'.format(i+1))\n",
    "\n",
    "plt.legend(ncol=3)\n",
    "plt.show()"
   ]
  },
  {
   "cell_type": "markdown",
   "metadata": {},
   "source": [
    "## Synthetic samples"
   ]
  },
  {
   "cell_type": "code",
   "execution_count": 51,
   "metadata": {},
   "outputs": [
    {
     "data": {
      "image/png": "[encoded data removed]",
      "text/plain": [
       "<Figure size 1440x1152 with 16 Axes>"
      ]
     },
     "metadata": {
      "needs_background": "light"
     },
     "output_type": "display_data"
    }
   ],
   "source": [
    "def generate_and_save_images(model, test_input):\n",
    "    # Notice `training` is set to False.\n",
    "    # This is so all layers run in inference mode (batchnorm).\n",
    "    predictions = model(test_input, training=False)\n",
    "\n",
    "    fig = plt.figure(figsize=(20, 16))\n",
    "\n",
    "    for i in range(predictions.shape[0]):\n",
    "        plt.subplot(1, 16, i + 1)\n",
    "        plt.imshow(predictions[i, :, :, 0] * 127.5 + 127.5, cmap='gray')\n",
    "        plt.axis('off')\n",
    "\n",
    "    plt.subplots_adjust(wspace=0.05, hspace=0.05, left=0, right=1, bottom=0, top=1)\n",
    "    plt.show()\n",
    "    \n",
    "# We will reuse this seed overtime (so it's easier)\n",
    "# to visualize progress in the animated GIF)\n",
    "num_examples_to_generate = 16\n",
    "seed = tf.random.normal([num_examples_to_generate, noise_dim])\n",
    "generate_and_save_images(generator, seed)"
   ]
  },
  {
   "cell_type": "markdown",
   "metadata": {},
   "source": [
    "# Quatitative evaluation "
   ]
  },
  {
   "cell_type": "code",
   "execution_count": 52,
   "metadata": {},
   "outputs": [],
   "source": [
    "# generate images for evaluation\n",
    "num_generated_images = target_size # same size with target dataset\n",
    "generated_images = np.empty((0, 28, 28, 1), float)\n",
    "for i in range(num_generated_images//1000):\n",
    "    noise = tf.random.normal([1000, 100])\n",
    "    generated_image = generator(noise, training=False) # * 127.5 + 127.5 \n",
    "    \n",
    "    generated_images= np.vstack([generated_images, generated_image])"
   ]
  },
  {
   "cell_type": "code",
   "execution_count": 53,
   "metadata": {},
   "outputs": [
    {
     "data": {
      "text/plain": [
       "(7000, 28, 28, 1)"
      ]
     },
     "execution_count": 53,
     "metadata": {},
     "output_type": "execute_result"
    }
   ],
   "source": [
    "generated_images.shape"
   ]
  },
  {
   "cell_type": "markdown",
   "metadata": {},
   "source": [
    "## FID"
   ]
  },
  {
   "cell_type": "code",
   "execution_count": 54,
   "metadata": {},
   "outputs": [],
   "source": [
    "import os\n",
    "from numpy import cov, trace, iscomplexobj, asarray\n",
    "from numpy.random import randint\n",
    "from scipy.linalg import sqrtm\n",
    "import tensorflow as tf\n",
    "from tensorflow.keras.applications.inception_v3 import InceptionV3\n",
    "from tensorflow.keras.applications.inception_v3 import preprocess_input\n",
    "\n",
    "from skimage.transform import resize\n",
    "from sklearn import metrics as sklearn_metrics"
   ]
  },
  {
   "cell_type": "code",
   "execution_count": 55,
   "metadata": {},
   "outputs": [],
   "source": [
    "# scale an array of images to a new size\n",
    "def scale_images(images, new_shape):\n",
    "    images_list = list()\n",
    "    for image in images:\n",
    "        # resize with nearest neighbor interpolation\n",
    "        new_image = resize(image, new_shape, 0)\n",
    "        # store\n",
    "        images_list.append(new_image)\n",
    "    return asarray(images_list)\n",
    "\n",
    "# calculate frechet inception distance\n",
    "def calculate_fid(model, images1, images2):\n",
    "    # calculate activations\n",
    "    act1 = model.predict(images1)\n",
    "    act2 = model.predict(images2)\n",
    "    # calculate mean and covariance statistics\n",
    "    mu1, sigma1 = act1.mean(axis=0), cov(act1, rowvar=False)\n",
    "    mu2, sigma2 = act2.mean(axis=0), cov(act2, rowvar=False)\n",
    "    # calculate sum squared difference between means\n",
    "    ssdiff = np.sum((mu1 - mu2)**2.0)\n",
    "    # calculate sqrt of product between cov\n",
    "    covmean = sqrtm(sigma1.dot(sigma2))\n",
    "    # check and correct imaginary numbers from sqrt\n",
    "    if iscomplexobj(covmean):\n",
    "        covmean = covmean.real\n",
    "    # calculate score\n",
    "    fid = ssdiff + trace(sigma1 + sigma2 - 2.0 * covmean)\n",
    "    return fid"
   ]
  },
  {
   "cell_type": "code",
   "execution_count": 56,
   "metadata": {},
   "outputs": [],
   "source": [
    "# prepare the inception v3 model\n",
    "model = InceptionV3(include_top=False,\n",
    "                    pooling='avg',\n",
    "                    input_shape=(299, 299, 3))"
   ]
  },
  {
   "cell_type": "code",
   "execution_count": 57,
   "metadata": {},
   "outputs": [
    {
     "name": "stdout",
     "output_type": "stream",
     "text": [
      "Scaled (7000, 299, 299, 3) (7000, 299, 299, 3)\n"
     ]
    }
   ],
   "source": [
    "# convert integer to floating point values\n",
    "images1 = (test_MNIST[:target_size].astype('float32') - 127.5) / 127.5\n",
    "images2 = generated_images.astype('float32')\n",
    "\n",
    "# resize images\n",
    "images1 = scale_images(images1, (299, 299, 3))\n",
    "images2 = scale_images(images2, (299, 299, 3))\n",
    "print('Scaled', images1.shape, images2.shape)"
   ]
  },
  {
   "cell_type": "code",
   "execution_count": 58,
   "metadata": {},
   "outputs": [
    {
     "name": "stdout",
     "output_type": "stream",
     "text": [
      "FID (different): 4.992\n"
     ]
    }
   ],
   "source": [
    "# pre-process images\n",
    "images1 = preprocess_input(images1)\n",
    "images2 = preprocess_input(images2)\n",
    "# fid between images1 and images2\n",
    "fid = calculate_fid(model, images1, images2)\n",
    "print('FID (different): %.3f' % fid)"
   ]
  },
  {
   "cell_type": "markdown",
   "metadata": {},
   "source": [
    "# MIA"
   ]
  },
  {
   "cell_type": "markdown",
   "metadata": {},
   "source": [
    "## Attack on discriminiator "
   ]
  },
  {
   "cell_type": "code",
   "execution_count": 29,
   "metadata": {},
   "outputs": [],
   "source": [
    "def WBattack_priv(X,X_comp, discriminators):\n",
    "    \n",
    "    Dat = np.concatenate([X, X_comp])\n",
    "    Pred = []\n",
    "    \n",
    "    for i in range(len(discriminators)):\n",
    "        Pred += [discriminators[i].predict(Dat)[:,0]]\n",
    "        \n",
    "    \n",
    "    p_mean = np.mean(Pred, axis = 0)\n",
    "    p_max = np.max(Pred, axis = 0)\n",
    "    \n",
    "    In_mean = np.argsort(-p_mean)\n",
    "    In_mean = In_mean[:len(X)]\n",
    "\n",
    "    In_max = np.argsort(-p_max)\n",
    "    In_max = In_max[:len(X)]\n",
    "    \n",
    "    Acc_max = np.sum(1.*(In_max<len(X)))/len(X)\n",
    "    Acc_mean = np.sum(1.*(In_mean<len(X)))/len(X)\n",
    "    \n",
    "    print('White-box attack accuracy (max):',Acc_max)\n",
    "    print('White-box attack accuracy (mean):',Acc_mean)\n",
    "    \n",
    "    return(Acc_max, Acc_mean)"
   ]
  },
  {
   "cell_type": "code",
   "execution_count": 30,
   "metadata": {},
   "outputs": [
    {
     "name": "stdout",
     "output_type": "stream",
     "text": [
      "White-box attack accuracy (max): 0.5347142857142857\n",
      "White-box attack accuracy (mean): 0.5532857142857143\n"
     ]
    },
    {
     "data": {
      "text/plain": [
       "(0.5347142857142857, 0.5532857142857143)"
      ]
     },
     "execution_count": 30,
     "metadata": {},
     "output_type": "execute_result"
    }
   ],
   "source": [
    "#perform white box attack\n",
    "WBattack_priv(target_images, test_images[:target_size], discriminators)"
   ]
  },
  {
   "cell_type": "code",
   "execution_count": 31,
   "metadata": {},
   "outputs": [],
   "source": [
    "from sklearn import preprocessing\n",
    "min_max_scaler = preprocessing.MinMaxScaler()\n",
    "\n",
    "def WBattack_TVD_priv(X,X_comp, discriminators):\n",
    "    \n",
    "    tvd = []\n",
    "    \n",
    "    for i in range(len(discriminators)):\n",
    "        \n",
    "        X_predict = discriminators[i].predict(X)\n",
    "        X_comp_predict = discriminators[i].predict(X_comp)\n",
    "        predict_minmax = min_max_scaler.fit_transform(np.concatenate([X_predict, X_comp_predict]))\n",
    "        \n",
    "        n1, _= np.histogram(predict_minmax[:X_predict.shape[0],0], bins = 50, density = True, range = [0,1])\n",
    "        n2, _ = np.histogram(predict_minmax[-X_comp_predict.shape[0]:,0], bins = 50, density = True, range = [0,1])\n",
    "        tvd += [0.5*np.linalg.norm(n1-n2,1)/50.0]\n",
    "    \n",
    "    print('Total Variational Distance - max:',max(tvd))\n",
    "    print('Total Variational Distance - mean:',np.mean(tvd))\n",
    "    \n",
    "    return(np.max(tvd),np.mean(tvd)) "
   ]
  },
  {
   "cell_type": "code",
   "execution_count": 32,
   "metadata": {},
   "outputs": [
    {
     "name": "stdout",
     "output_type": "stream",
     "text": [
      "Total Variational Distance - max: 0.17871429986046278\n",
      "Total Variational Distance - mean: 0.1060285712600928\n"
     ]
    },
    {
     "data": {
      "text/plain": [
       "(0.17871429986046278, 0.1060285712600928)"
      ]
     },
     "execution_count": 32,
     "metadata": {},
     "output_type": "execute_result"
    }
   ],
   "source": [
    "WBattack_TVD_priv(target_images, test_images[:target_size], discriminators)"
   ]
  },
  {
   "cell_type": "code",
   "execution_count": 32,
   "metadata": {},
   "outputs": [
    {
     "data": {
      "image/png": "[encoded data removed]",
      "text/plain": [
       "<Figure size 288x216 with 1 Axes>"
      ]
     },
     "metadata": {
      "needs_background": "light"
     },
     "output_type": "display_data"
    }
   ],
   "source": [
    "from sklearn import preprocessing\n",
    "min_max_scaler = preprocessing.MinMaxScaler()\n",
    "\n",
    "import matplotlib.pyplot as plt\n",
    "import matplotlib.pylab as pylab\n",
    "\n",
    "params = {\n",
    "    'figure.figsize': (4, 3),\n",
    "    'legend.fontsize': 'x-large',\n",
    "    'axes.labelsize': 'xx-large',\n",
    "    'axes.titlesize': 'xx-large',\n",
    "    'axes.titlepad': 15,\n",
    "    'xtick.labelsize': 'x-large',\n",
    "    'ytick.labelsize': 'x-large'\n",
    "}\n",
    "pylab.rcParams.update(params)\n",
    "\n",
    "def get_predict_results(dataset):\n",
    "    results = []\n",
    "    for i in range(num_disc):\n",
    "        results.append(discriminators[i].predict(dataset))\n",
    "    results = tf.concat(results, axis=0)\n",
    "    \n",
    "    return results\n",
    "\n",
    "X_predict = get_predict_results(target_images)\n",
    "X_comp_predict = get_predict_results(test_images[:target_size])\n",
    "predict_minmax = min_max_scaler.fit_transform(np.concatenate([X_predict, X_comp_predict]))\n",
    "    \n",
    "#plot distribution of discriminator scores of training and test set\n",
    "plt.hist(predict_minmax[:X_predict.shape[0],0],\n",
    "         color='b',\n",
    "         alpha=0.5,\n",
    "         label='Train',\n",
    "         density=True,\n",
    "         bins=50)\n",
    "plt.hist(predict_minmax[-X_comp_predict.shape[0]:,0],\n",
    "         color='r',\n",
    "         alpha=0.5,\n",
    "         label='Holdout',\n",
    "         density=True,\n",
    "         bins=50)\n",
    "plt.xlabel('Normed critic score')\n",
    "plt.ylabel('Frequency (%)')\n",
    "plt.ylim(ymax=6)\n",
    "plt.title('PAR-WGAN-GP($k=5$)')\n",
    "plt.legend()\n",
    "\n",
    "plt.savefig('plot_figures/PAR-WGAN-GP_k5.svg', format='svg')\n",
    "plt.show()"
   ]
  },
  {
   "cell_type": "markdown",
   "metadata": {},
   "source": [
    "## Attack on generator "
   ]
  },
  {
   "cell_type": "code",
   "execution_count": 40,
   "metadata": {},
   "outputs": [],
   "source": [
    "from sklearn.decomposition import PCA"
   ]
  },
  {
   "cell_type": "code",
   "execution_count": 41,
   "metadata": {},
   "outputs": [],
   "source": [
    "def MC_eps_attack(X, X_comp, X_ho, generator, N = 10000, M = 100, n_pc = 40, reps = 50):\n",
    "    \n",
    "    #flatten images \n",
    "    if len(X.shape)==3:\n",
    "        sh = X.shape[1]*X.shape[2]        \n",
    "    elif len(X.shape)==2:\n",
    "        sh = X.shape[1]\n",
    "    else:\n",
    "        sh = X.shape[1]*X.shape[2]*X.shape[3]\n",
    "        \n",
    "    X = np.reshape(X, (len(X),sh))\n",
    "    X_comp = np.reshape(X_comp, (len(X_comp),sh))\n",
    "    X_ho = np.reshape(X_ho, (len(X_ho),sh))\n",
    "    \n",
    "    #fit PCA\n",
    "    pca = PCA(n_components=n_pc)\n",
    "    pca.fit(X_ho)\n",
    "        \n",
    "    res = []\n",
    "    \n",
    "    for r in range(reps):\n",
    "        \n",
    "        #generate, flatten and dimensionality reduce a ton of synthetic samples \n",
    "        noise = np.random.normal(0, 1, size=[N, 100])\n",
    "        X_fake = generator.predict(noise)\n",
    "        X_fake = np.reshape(X_fake,(len(X_fake),sh))\n",
    "        X_fake_dr = pca.transform(X_fake)\n",
    "    \n",
    "                \n",
    "        idx1 = np.random.randint(len(X), size=M)\n",
    "        idx2 = np.random.randint(len(X_comp), size=M)\n",
    "    \n",
    "        M_x = pca.transform(np.reshape(X[idx1,:],(len(X[idx1,:]),sh)))\n",
    "        M_xc = pca.transform(np.reshape(X_comp[idx2,:],(len(X_comp[idx2,:]),sh)))\n",
    "        \n",
    "        min_x = []\n",
    "        min_xc = []\n",
    "\n",
    "        #calculate median epsilon \n",
    "        for i in range(M):\n",
    "            temp_x = np.tile(M_x[i,:],(len(X_fake_dr),1))\n",
    "            temp_xc = np.tile(M_xc[i,:],(len(X_fake_dr),1))\n",
    "\n",
    "            D_x = np.sqrt(np.sum((temp_x-X_fake_dr)**2,axis=1))\n",
    "            D_xc = np.sqrt(np.sum((temp_xc-X_fake_dr)**2,axis=1))\n",
    "\n",
    "            min_x += [np.min(D_x)]\n",
    "            min_xc += [np.min(D_xc)]\n",
    "            \n",
    "        eps = np.median(min_x + min_xc)\n",
    "            \n",
    "        s_x = []\n",
    "        s_xc = []\n",
    "        \n",
    "        #estimate the integral\n",
    "        for i in range(M):\n",
    "            temp_x = np.tile(M_x[i,:],(len(X_fake_dr),1))\n",
    "            temp_xc = np.tile(M_xc[i,:],(len(X_fake_dr),1))\n",
    "\n",
    "            D_x = np.sqrt(np.sum((temp_x-X_fake_dr)**2,axis=1))\n",
    "            D_xc = np.sqrt(np.sum((temp_xc-X_fake_dr)**2,axis=1))\n",
    "\n",
    "            s_x += [np.sum(D_x <= eps)/len(X_fake_dr)]\n",
    "            s_xc += [np.sum(D_xc <= eps)/len(X_fake_dr)]\n",
    "            \n",
    "        s_x_xc = np.array(s_x + s_xc)\n",
    "        In = np.argsort(-s_x_xc)[:M]\n",
    "\n",
    "\n",
    "        if np.sum(In<M)>= 0.5*M:\n",
    "            res += [1]\n",
    "        else:\n",
    "            res += [0]\n",
    "            \n",
    "    \n",
    "    return(np.mean(res))"
   ]
  },
  {
   "cell_type": "code",
   "execution_count": 44,
   "metadata": {},
   "outputs": [
    {
     "data": {
      "text/plain": [
       "0.76"
      ]
     },
     "execution_count": 44,
     "metadata": {},
     "output_type": "execute_result"
    }
   ],
   "source": [
    "MC_eps_attack(target_images, train_images[target_size:target_size*2], test_images[:target_size], generator)"
   ]
  },
  {
   "cell_type": "code",
   "execution_count": null,
   "metadata": {},
   "outputs": [],
   "source": []
  }
 ],
 "metadata": {
  "kernelspec": {
   "display_name": "Python 3",
   "language": "python",
   "name": "python3"
  },
  "language_info": {
   "codemirror_mode": {
    "name": "ipython",
    "version": 3
   },
   "file_extension": ".py",
   "mimetype": "text/x-python",
   "name": "python",
   "nbconvert_exporter": "python",
   "pygments_lexer": "ipython3",
   "version": "3.7.5"
  },
  "toc": {
   "base_numbering": 1,
   "nav_menu": {},
   "number_sections": true,
   "sideBar": true,
   "skip_h1_title": false,
   "title_cell": "Table of Contents",
   "title_sidebar": "Contents",
   "toc_cell": false,
   "toc_position": {},
   "toc_section_display": true,
   "toc_window_display": false
  }
 },
 "nbformat": 4,
 "nbformat_minor": 2
}
